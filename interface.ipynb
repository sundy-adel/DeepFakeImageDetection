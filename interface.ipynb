{
 "cells": [
  {
   "cell_type": "code",
   "execution_count": 23,
   "id": "a3cb1403",
   "metadata": {},
   "outputs": [],
   "source": [
    "from tensorflow.keras.models import load_model\n",
    "\n",
    "# Load the entire model\n",
    "loaded_model = load_model(\"MobileNetV2model2withlargescale8batch.h5\")\n"
   ]
  },
  {
   "cell_type": "code",
   "execution_count": 24,
   "id": "af57e404",
   "metadata": {},
   "outputs": [
    {
     "data": {
      "text/plain": [
       "array([[[[0.84849522, 0.84849522, 0.85633836],\n",
       "         [0.85961464, 0.8598244 , 0.86766754],\n",
       "         [0.8599202 , 0.86363201, 0.87147514],\n",
       "         ...,\n",
       "         [0.87502319, 0.87894476, 0.8867879 ],\n",
       "         [0.87571017, 0.87963174, 0.88747488],\n",
       "         [0.87327119, 0.87719276, 0.8850359 ]],\n",
       "\n",
       "        [[0.85502859, 0.85502859, 0.8624522 ],\n",
       "         [0.85989644, 0.86011742, 0.86752981],\n",
       "         [0.86350301, 0.86741336, 0.87463843],\n",
       "         ...,\n",
       "         [0.87910673, 0.8830283 , 0.89087144],\n",
       "         [0.87637578, 0.88029735, 0.88814049],\n",
       "         [0.87363305, 0.87755462, 0.88539776]],\n",
       "\n",
       "        [[0.8531627 , 0.8531627 , 0.85358125],\n",
       "         [0.85862514, 0.85903344, 0.85925437],\n",
       "         [0.8623147 , 0.86953977, 0.86644603],\n",
       "         ...,\n",
       "         [0.87683245, 0.88075402, 0.88901709],\n",
       "         [0.87155767, 0.87547923, 0.88353265],\n",
       "         [0.86687749, 0.87079906, 0.87864329]],\n",
       "\n",
       "        ...,\n",
       "\n",
       "        [[0.40815935, 0.46699482, 0.22432045],\n",
       "         [0.38188828, 0.4488573 , 0.21794139],\n",
       "         [0.35234273, 0.42723811, 0.20717261],\n",
       "         ...,\n",
       "         [0.62901201, 0.60394235, 0.52301134],\n",
       "         [0.63475847, 0.61056411, 0.52496539],\n",
       "         [0.64362726, 0.62040184, 0.5299249 ]],\n",
       "\n",
       "        [[0.43691655, 0.48371532, 0.27366933],\n",
       "         [0.41387732, 0.46252322, 0.25276406],\n",
       "         [0.37901461, 0.43857375, 0.21585795],\n",
       "         ...,\n",
       "         [0.61033885, 0.60011489, 0.49640262],\n",
       "         [0.62166281, 0.61143916, 0.50391133],\n",
       "         [0.62764903, 0.61751951, 0.50511276]],\n",
       "\n",
       "        [[0.48726255, 0.48560832, 0.33626362],\n",
       "         [0.4641578 , 0.46917805, 0.29393276],\n",
       "         [0.43486033, 0.45783464, 0.26066698],\n",
       "         ...,\n",
       "         [0.59543927, 0.59151615, 0.47419694],\n",
       "         [0.61652792, 0.61269871, 0.49234421],\n",
       "         [0.62057797, 0.61918726, 0.49013988]]]])"
      ]
     },
     "execution_count": 24,
     "metadata": {},
     "output_type": "execute_result"
    }
   ],
   "source": [
    "import os\n",
    "import skimage.io\n",
    "from skimage.transform import resize\n",
    "\n",
    "def load_image(image_path):\n",
    "    img = skimage.io.imread(image_path)\n",
    "    img = resize(img, (128, 128, 3), anti_aliasing=True)\n",
    "    img = img.reshape((1, 128, 128, 3))  # Reshape the image for model prediction\n",
    "    return img\n",
    "\n",
    "# Example usage:\n",
    "image_path = 'E:\\\\New folder (6)\\\\New folder\\\\test\\\\fake\\\\00JEP4Z36Z.jpg'\n",
    "loaded_image = load_image(image_path)\n",
    "loaded_image "
   ]
  },
  {
   "cell_type": "code",
   "execution_count": 25,
   "id": "646a89f1",
   "metadata": {},
   "outputs": [
    {
     "name": "stdout",
     "output_type": "stream",
     "text": [
      "1/1 [==============================] - 1s 555ms/step\n",
      "The model predict this image as Fake \n"
     ]
    }
   ],
   "source": [
    "# Example usage:\n",
    "image_path = 'E:\\\\New folder (6)\\\\New folder\\\\test\\\\fake\\\\00JEP4Z36Z.jpg'\n",
    "loaded_image = load_image(image_path)\n",
    "loaded_image \n",
    "\n",
    "result=loaded_model.predict(loaded_image)\n",
    "# function for evaluate the modl on test data\n",
    "threshold = 0.5\n",
    "y_test_pred_binary = (result > threshold).astype(int)\n",
    "y_test_pred_binary\n",
    "if y_test_pred_binary==0:\n",
    "    print('The model predict this image as Fake ')\n",
    "elif y_test_pred_binary==1:\n",
    "    print('The model predict this image as Real ')"
   ]
  },
  {
   "cell_type": "code",
   "execution_count": 26,
   "id": "9967aa43",
   "metadata": {},
   "outputs": [
    {
     "name": "stdout",
     "output_type": "stream",
     "text": [
      "1/1 [==============================] - 0s 21ms/step\n",
      "The model predict this image as Real \n"
     ]
    }
   ],
   "source": [
    "# Example usage:\n",
    "image_path = 'E:\\\\New folder (6)\\\\New folder\\\\test\\\\real\\\\00317.jpg'\n",
    "loaded_image = load_image(image_path)\n",
    "loaded_image \n",
    "\n",
    "result=loaded_model.predict(loaded_image)\n",
    "# function for evaluate the modl on test data\n",
    "threshold = 0.5\n",
    "y_test_pred_binary = (result > threshold).astype(int)\n",
    "y_test_pred_binary\n",
    "if y_test_pred_binary==0:\n",
    "    print('The model predict this image as Fake ')\n",
    "elif y_test_pred_binary==1:\n",
    "    print('The model predict this image as Real ')"
   ]
  },
  {
   "cell_type": "code",
   "execution_count": null,
   "id": "2536d80d",
   "metadata": {},
   "outputs": [],
   "source": []
  }
 ],
 "metadata": {
  "kernelspec": {
   "display_name": "Python 3 (ipykernel)",
   "language": "python",
   "name": "python3"
  },
  "language_info": {
   "codemirror_mode": {
    "name": "ipython",
    "version": 3
   },
   "file_extension": ".py",
   "mimetype": "text/x-python",
   "name": "python",
   "nbconvert_exporter": "python",
   "pygments_lexer": "ipython3",
   "version": "3.11.5"
  }
 },
 "nbformat": 4,
 "nbformat_minor": 5
}
